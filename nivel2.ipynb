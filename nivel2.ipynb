{
 "cells": [
  {
   "cell_type": "markdown",
   "id": "aa58cad3",
   "metadata": {},
   "source": [
    "### Exercici 4\n",
    "\n",
    "Mostreu-me amb exemples de diferents matrius, la regla fonamental de Broadcasting que diu : \"les matrius es poden transmetre / broadcast si les seves dimensions coincideixen o si una de les matrius té una mida d'1\"."
   ]
  },
  {
   "cell_type": "markdown",
   "id": "92d61fb8",
   "metadata": {},
   "source": [
    "cuando las dos matrices coinciden en todas sus dimensiones , las operaciones son compatibles entre ellas :"
   ]
  },
  {
   "cell_type": "code",
   "execution_count": 17,
   "id": "d48df87f",
   "metadata": {},
   "outputs": [
    {
     "name": "stdout",
     "output_type": "stream",
     "text": [
      "Matriz a:\n",
      "[[2 2 2]\n",
      " [3 3 3]]\n",
      "con la forma (2, 3)\n",
      "Matriz b:\n",
      "[[4 4 4]\n",
      " [4 4 4]]\n",
      "con la forma (2, 3)\n",
      "\n",
      "Sumamos las matrices a y b\n",
      "Obtenemos la matriz: \n",
      "[[6 6 6]\n",
      " [7 7 7]]\n",
      "con la forma (2, 3)\n"
     ]
    }
   ],
   "source": [
    "import numpy as np\n",
    "a=np.array([[2,2,2,],[3,3,3,]])\n",
    "print(\"Matriz a:\")\n",
    "print(a)\n",
    "print(\"con la forma \"+str(a.shape))\n",
    "b=np.array([[4,4,4],[4,4,4]])\n",
    "print(\"Matriz b:\")\n",
    "print(b)\n",
    "print(\"con la forma \"+str(b.shape))\n",
    "print()\n",
    "print(\"Sumamos las matrices a y b\")\n",
    "c=a+b\n",
    "print(\"Obtenemos la matriz: \")\n",
    "print(c)\n",
    "print(\"manteniendo la forma \"+str(c.shape))\n"
   ]
  },
  {
   "cell_type": "markdown",
   "id": "bfd65017",
   "metadata": {},
   "source": [
    "tambien son compatibles cuando coinciden parcialmente sus dimensiones , empezando por la izquierda, que sería como si nos inventaremos una dimension extra de valor 1"
   ]
  },
  {
   "cell_type": "code",
   "execution_count": 15,
   "id": "32db9ef6",
   "metadata": {},
   "outputs": [
    {
     "name": "stdout",
     "output_type": "stream",
     "text": [
      "Matriz a:\n",
      "[[2 2 2]\n",
      " [3 3 3]]\n",
      "con la forma (2, 3)\n",
      "Matriz b:\n",
      "con la forma (3, 2, 3)\n",
      "Sumamos las matrices a y b\n",
      "Obtenemos la matriz: \n",
      "[[[5 5 5]\n",
      "  [7 7 7]]\n",
      "\n",
      " [[5 5 5]\n",
      "  [7 7 7]]\n",
      "\n",
      " [[5 5 5]\n",
      "  [7 7 7]]]\n",
      "con la forma (3, 2, 3)\n"
     ]
    }
   ],
   "source": [
    "import numpy as np\n",
    "a=np.array([[2,2,2,],[3,3,3,]])\n",
    "print(\"Matriz a:\")\n",
    "print(a)\n",
    "\n",
    "print(\"con la forma \"+str(a.shape))\n",
    "b=np.array([[[3,3,3,],[4,4,4]],[[3,3,3,],[4,4,4]],[[3,3,3,],[4,4,4]]])\n",
    "print(\"Matriz b:\")\n",
    "print(b)\n",
    "print(\"con la forma \"+str(b.shape))\n",
    "print()\n",
    "print(\"Sumamos las matrices a y b\")\n",
    "c=a+b\n",
    "print(\"Obtenemos la matriz: \")\n",
    "print(c)\n",
    "print(\"con la forma \"+str(c.shape))\n",
    "\n",
    "\n",
    "\n"
   ]
  },
  {
   "cell_type": "markdown",
   "id": "8356582d",
   "metadata": {},
   "source": [
    "es como si numpy redefiniese la matriz a de la siguiente forma y aplicase la regla de la dimesión, como se muestras en el siguiente código."
   ]
  },
  {
   "cell_type": "code",
   "execution_count": null,
   "id": "6c805822",
   "metadata": {},
   "outputs": [],
   "source": [
    "import numpy as np\n",
    "a=np.array([[[2,2,2,],[3,3,3,]]])\n",
    "print(a.shape)"
   ]
  },
  {
   "cell_type": "markdown",
   "id": "946dc472",
   "metadata": {},
   "source": [
    "si las 2 matrices coinciden en todas las dimensiones excepto una , y en esta dimension una de las 2 matrices es de dimension 1 . Las matrices son compatibles , ya que se \"expande\" la dimensión 1 de la matriz para hacer compatible las operaciones:"
   ]
  },
  {
   "cell_type": "code",
   "execution_count": 14,
   "id": "9f7fc58c",
   "metadata": {},
   "outputs": [
    {
     "name": "stdout",
     "output_type": "stream",
     "text": [
      "Tomamos 2 matrices, matriz a\n",
      "[[2 2 2]\n",
      " [3 3 3]]\n",
      "Con forma (2, 3)\n",
      "y la matriz b\n",
      "[[2 2 2]]\n",
      "con forma (1, 3)\n",
      "Expandimos la dimensión de la matriz b , hasta hacerlo compatible con a y poder sumarlas\n",
      "Obtenemos la matriz:\n",
      "[[4 4 4]\n",
      " [5 5 5]]\n",
      "con forma (2, 3)\n",
      "es como definir b de la siguiente manera:\n",
      "(2, 3)\n",
      "[[4 4 4]\n",
      " [5 5 5]]\n"
     ]
    }
   ],
   "source": [
    "import numpy as np\n",
    "a=np.array([[2,2,2],[3,3,3]])\n",
    "print(\"Tomamos 2 matrices, matriz a\")\n",
    "print(a)\n",
    "print(\"Con forma \"+str(a.shape))\n",
    "b=np.array([[2,2,2]])\n",
    "print(\"y la matriz b\")\n",
    "print(b)\n",
    "print(\"con forma \"+str(b.shape))\n",
    "print(\"Expandimos la dimensión de la matriz b , hasta hacerlo compatible con a y poder sumarlas\")\n",
    "c=a+b\n",
    "print(\"Obtenemos la matriz:\")     \n",
    "print(c)\n",
    "print(\"con forma \"+str(c.shape))\n",
    "print(\"es como definir b de la siguiente manera:\")\n",
    "b=np.array([[2,2,2],[2,2,2]])\n",
    "print(b.shape)\n",
    "c=a+b\n",
    "print(c)\n"
   ]
  },
  {
   "cell_type": "markdown",
   "id": "e302738d",
   "metadata": {},
   "source": [
    "### Exercici 5\n",
    "Utilitza la Indexació per extreure els valors d'una columna i una fila de la matriu. I suma els seus valors."
   ]
  },
  {
   "cell_type": "code",
   "execution_count": 8,
   "id": "01a42623",
   "metadata": {},
   "outputs": [
    {
     "name": "stdout",
     "output_type": "stream",
     "text": [
      "Matriz ejemplo\n",
      "[[4 4 4 4]\n",
      " [3 3 3 3]\n",
      " [1 2 3 8]]\n",
      "\n",
      "mostramos la primera columna\n",
      "[4 3 1]\n",
      "ahora la suma de los elementos de la primera columna\n",
      "8\n",
      "\n",
      "mostramos la primera fila\n",
      "[4 4 4 4]\n",
      "y la suma de sus elementos\n",
      "16\n"
     ]
    }
   ],
   "source": [
    "import numpy as np\n",
    "a=np.array([[4,4,4,4],[3,3,3,3],[1,2,3,8]])\n",
    "\n",
    "print(\"Matriz ejemplo\")\n",
    "print(a)\n",
    "print()\n",
    "print(\"mostramos la primera columna\")\n",
    "print(a[:,0])#el 0 marca la columna\n",
    "print(\"ahora la suma de los elementos de la primera columna\")\n",
    "print(np.add.reduce(a[:,0]))\n",
    "print()\n",
    "print(\"mostramos la primera fila\")\n",
    "print(a[(0)])\n",
    "print(\"y la suma de sus elementos\")\n",
    "print(np.add.reduce(a[(0)]))\n"
   ]
  },
  {
   "cell_type": "markdown",
   "id": "0d90052e",
   "metadata": {},
   "source": [
    "### Exercici 6\n",
    "Mask la matriu anterior, realitzeu un càlcul booleà vectoritzat, agafant cada element i comprovant si es divideix uniformement per quatre.\n",
    "Això retorna una matriu de mask de la mateixa forma amb els resultats elementals del càlcul."
   ]
  },
  {
   "cell_type": "code",
   "execution_count": 10,
   "id": "3a94076a",
   "metadata": {},
   "outputs": [
    {
     "name": "stdout",
     "output_type": "stream",
     "text": [
      "obtenemos la matriz mascara:\n",
      "[[ True  True  True  True]\n",
      " [False False False False]\n",
      " [False False False  True]]\n"
     ]
    }
   ],
   "source": [
    "import numpy as np\n",
    "mascara=np.where(a%4==0,True,False)\n",
    "print(\"obtenemos la matriz mascara:\")\n",
    "print()\n",
    "print(mascara)"
   ]
  },
  {
   "cell_type": "markdown",
   "id": "f6120e5f",
   "metadata": {},
   "source": [
    "### Exercici 7\n",
    "A continuació, utilitzeu aquesta màscara per indexar a la matriu de números original. Això fa que la matriu perdi la seva forma original, reduint-la a una dimensió, però encara obteniu les dades que esteu cercant."
   ]
  },
  {
   "cell_type": "code",
   "execution_count": 6,
   "id": "6fdea4bf",
   "metadata": {},
   "outputs": [
    {
     "name": "stdout",
     "output_type": "stream",
     "text": [
      "Valores de la matriz divisibles entre 4[4 4 4 4 8]\n"
     ]
    }
   ],
   "source": [
    "#usar l amatriz true/false para sacar los valores que se dividen por 4 \n",
    "import numpy as np\n",
    "\n",
    "#mostrar divisibles entre 4\n",
    "mostrar_filtrado=a[mascara]\n",
    "print(\"Valores de la matriz divisibles entre 4: \" +str(mostrar_filtrado))\n"
   ]
  }
 ],
 "metadata": {
  "hide_input": false,
  "kernelspec": {
   "display_name": "Python 3",
   "language": "python",
   "name": "python3"
  },
  "language_info": {
   "codemirror_mode": {
    "name": "ipython",
    "version": 3
   },
   "file_extension": ".py",
   "mimetype": "text/x-python",
   "name": "python",
   "nbconvert_exporter": "python",
   "pygments_lexer": "ipython3",
   "version": "3.9.7"
  },
  "toc": {
   "base_numbering": 1,
   "nav_menu": {},
   "number_sections": true,
   "sideBar": true,
   "skip_h1_title": false,
   "title_cell": "Table of Contents",
   "title_sidebar": "Contents",
   "toc_cell": false,
   "toc_position": {},
   "toc_section_display": true,
   "toc_window_display": false
  },
  "varInspector": {
   "cols": {
    "lenName": 16,
    "lenType": 16,
    "lenVar": 40
   },
   "kernels_config": {
    "python": {
     "delete_cmd_postfix": "",
     "delete_cmd_prefix": "del ",
     "library": "var_list.py",
     "varRefreshCmd": "print(var_dic_list())"
    },
    "r": {
     "delete_cmd_postfix": ") ",
     "delete_cmd_prefix": "rm(",
     "library": "var_list.r",
     "varRefreshCmd": "cat(var_dic_list()) "
    }
   },
   "types_to_exclude": [
    "module",
    "function",
    "builtin_function_or_method",
    "instance",
    "_Feature"
   ],
   "window_display": false
  }
 },
 "nbformat": 4,
 "nbformat_minor": 5
}
