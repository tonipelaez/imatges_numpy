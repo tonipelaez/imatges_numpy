{
 "cells": [
  {
   "cell_type": "markdown",
   "id": "72925d99",
   "metadata": {},
   "source": [
    "\n",
    "### Nivell 1\n",
    "\n",
    "\n",
    "- Exercici 1\n",
    "\n",
    "Crea un np.array d'una dimensió, que inclogui l'almenys 8 nombres sencers, data type int64. Mostra la dimensió i la forma de la matriu. .\n"
   ]
  },
  {
   "cell_type": "code",
   "execution_count": 1,
   "id": "4a863e05",
   "metadata": {},
   "outputs": [
    {
     "name": "stdout",
     "output_type": "stream",
     "text": [
      "[     12     123  342342     234   23432       1       2     312   31246\n",
      "    8988 7778769 4365456   45633]\n",
      "Shape : (13,)\n",
      "Dimension: 1\n"
     ]
    }
   ],
   "source": [
    "import numpy as np\n",
    "num_enteros=np.array([12,123,342342,234,23432,1,2,312,31246,8988,7778769,4365456,45633])\n",
    "print(num_enteros)\n",
    "print(\"Shape : \"+str(num_enteros.shape))\n",
    "print(\"Dimension: \"+str(num_enteros.ndim))\n"
   ]
  },
  {
   "cell_type": "markdown",
   "id": "8ace919a",
   "metadata": {},
   "source": [
    "- Exercici 2\n",
    "\n",
    "De la matriu de l'exercici 1, calcula el valor mitjà dels valors introduïts i resta la mitjana resultant de cada un dels valors de la matriu."
   ]
  },
  {
   "cell_type": "markdown",
   "id": "defbbd23",
   "metadata": {},
   "source": [
    "- Primera solución : modo programador"
   ]
  },
  {
   "cell_type": "code",
   "execution_count": 2,
   "id": "ce15bc55",
   "metadata": {},
   "outputs": [
    {
     "name": "stdout",
     "output_type": "stream",
     "text": [
      "El valor medio es 968965.3846153846\n",
      "El resto en apartado siguiente :)\n"
     ]
    }
   ],
   "source": [
    "\n",
    "def valor_medio(array_1d):\n",
    "    suma=0\n",
    "    for num in array_1d:\n",
    "        suma+=num\n",
    "    media=suma/len(num_enteros)\n",
    "    return (media)\n",
    "               \n",
    "print(\"El valor medio es \"+str(valor_medio(num_enteros)))     \n",
    "print(\"El resto en apartado siguiente :)\")\n"
   ]
  },
  {
   "cell_type": "markdown",
   "id": "33f1af6f",
   "metadata": {},
   "source": [
    "- Segunda solución:modo DataScience"
   ]
  },
  {
   "cell_type": "code",
   "execution_count": 3,
   "id": "0e40b0be",
   "metadata": {},
   "outputs": [
    {
     "name": "stdout",
     "output_type": "stream",
     "text": [
      "La mediana es 8988.0\n",
      "El valor medio es 968965.38\n",
      "Diferencia: 959977.38\n"
     ]
    }
   ],
   "source": [
    "import numpy as np\n",
    "mediana= round(np.median(num_enteros),2)\n",
    "print(\"La mediana es \"+ str(mediana))\n",
    "media_val= round(np.mean(num_enteros),2)\n",
    "print(\"El valor medio es \"+str(media_val))\n",
    "print(\"Diferencia: \"+ str(media_val-mediana))"
   ]
  },
  {
   "cell_type": "markdown",
   "id": "a1c4f1e9",
   "metadata": {},
   "source": [
    "- Exercici 3\n",
    "\n",
    "Crea una matriu bidimensional amb una forma de 5 x 5. Extreu el valor màxim de la matriu, i els valors màxims de cadascun dels seus eixos.\n"
   ]
  },
  {
   "cell_type": "code",
   "execution_count": 4,
   "id": "3e000d2c",
   "metadata": {},
   "outputs": [
    {
     "name": "stdout",
     "output_type": "stream",
     "text": [
      "Shape: (5, 5)\n",
      "Dimensión: 2\n"
     ]
    }
   ],
   "source": [
    "import numpy as np\n",
    "matriz=np.array([[3,5,34,5,6],[8,43,7,4,3],[1,6,3,8,45],[3,4,23,4,1],[6,4,1,6,34]])\n",
    "print(\"Shape: \"+str(matriz.shape))\n",
    "print(\"Dimensión: \"+str(matriz.ndim))"
   ]
  },
  {
   "cell_type": "markdown",
   "id": "de2d80f8",
   "metadata": {},
   "source": [
    "- modo programador"
   ]
  },
  {
   "cell_type": "code",
   "execution_count": 5,
   "id": "7e06f11c",
   "metadata": {},
   "outputs": [
    {
     "name": "stdout",
     "output_type": "stream",
     "text": [
      "Máximo de la matriz : 45\n",
      "El resto en modo DAtaScience ;)\n"
     ]
    }
   ],
   "source": [
    "#modo programador\n",
    "maximo=matriz[0,0]\n",
    "for x in matriz:\n",
    "    for y in x:\n",
    "        if (y>maximo):\n",
    "            maximo=y\n",
    "print(\"Máximo de la matriz : \"+str(maximo))\n",
    "print(\"El resto en modo DAtaScience ;)\")"
   ]
  },
  {
   "cell_type": "markdown",
   "id": "5bcb525a",
   "metadata": {},
   "source": [
    "- modo DataScience"
   ]
  },
  {
   "cell_type": "code",
   "execution_count": 6,
   "id": "d878679b",
   "metadata": {},
   "outputs": [
    {
     "name": "stdout",
     "output_type": "stream",
     "text": [
      "Máximo de la matriz : 45\n"
     ]
    }
   ],
   "source": [
    "#otra()\n",
    "print(\"Máximo de la matriz : \"+str(matriz.max()))"
   ]
  },
  {
   "cell_type": "code",
   "execution_count": 7,
   "id": "1008a850",
   "metadata": {},
   "outputs": [
    {
     "name": "stdout",
     "output_type": "stream",
     "text": [
      "matriz\n",
      "[[ 3  5 34  5  6]\n",
      " [ 8 43  7  4  3]\n",
      " [ 1  6  3  8 45]\n",
      " [ 3  4 23  4  1]\n",
      " [ 6  4  1  6 34]]\n",
      "\n",
      "Máximos en columnas[ 8 43 34  8 45]\n",
      "Máximos en filas [34 43 45 23 34]\n"
     ]
    }
   ],
   "source": [
    "#max dimensión\n",
    "print(\"matriz\")\n",
    "print(matriz)\n",
    "print()\n",
    "maximos_x=matriz.max(axis=0)\n",
    "maximos_y=matriz.max(axis=1)\n",
    "print(\"Máximos en columnas\"+str(maximos_x))\n",
    "print(\"Máximos en filas \" +str(maximos_y))"
   ]
  },
  {
   "cell_type": "markdown",
   "id": "0e7b9c04",
   "metadata": {},
   "source": [
    "- modo programador"
   ]
  },
  {
   "cell_type": "code",
   "execution_count": 8,
   "id": "7c5b15b1",
   "metadata": {},
   "outputs": [
    {
     "name": "stdout",
     "output_type": "stream",
     "text": [
      "Máximos de las filas : [34, 43, 45, 23, 34]\n"
     ]
    }
   ],
   "source": [
    "\n",
    "maximo_filas=[]\n",
    "\n",
    "for x in matriz:\n",
    "    maximo_filas.append(x.max())\n",
    "        \n",
    "print(\"Máximos de las filas : \"+str(maximo_filas))\n"
   ]
  }
 ],
 "metadata": {
  "hide_input": false,
  "kernelspec": {
   "display_name": "Python 3",
   "language": "python",
   "name": "python3"
  },
  "language_info": {
   "codemirror_mode": {
    "name": "ipython",
    "version": 3
   },
   "file_extension": ".py",
   "mimetype": "text/x-python",
   "name": "python",
   "nbconvert_exporter": "python",
   "pygments_lexer": "ipython3",
   "version": "3.9.7"
  },
  "toc": {
   "base_numbering": 1,
   "nav_menu": {},
   "number_sections": true,
   "sideBar": true,
   "skip_h1_title": false,
   "title_cell": "Table of Contents",
   "title_sidebar": "Contents",
   "toc_cell": false,
   "toc_position": {},
   "toc_section_display": true,
   "toc_window_display": false
  },
  "varInspector": {
   "cols": {
    "lenName": 16,
    "lenType": 16,
    "lenVar": 40
   },
   "kernels_config": {
    "python": {
     "delete_cmd_postfix": "",
     "delete_cmd_prefix": "del ",
     "library": "var_list.py",
     "varRefreshCmd": "print(var_dic_list())"
    },
    "r": {
     "delete_cmd_postfix": ") ",
     "delete_cmd_prefix": "rm(",
     "library": "var_list.r",
     "varRefreshCmd": "cat(var_dic_list()) "
    }
   },
   "types_to_exclude": [
    "module",
    "function",
    "builtin_function_or_method",
    "instance",
    "_Feature"
   ],
   "window_display": false
  }
 },
 "nbformat": 4,
 "nbformat_minor": 5
}
